{
  "nbformat": 4,
  "nbformat_minor": 0,
  "metadata": {
    "colab": {
      "name": "Основы работы с данными. Библиотека Pandas. Базовый exploratory data analysis. Заполнение пропусков.ipynb",
      "provenance": [],
      "collapsed_sections": [
        "Fyq-quJv93Hw",
        "fc58m7DtG-tB",
        "CoTXVO5uHfQ9",
        "cfU9c8l1J8xd",
        "rEXXzK58sVIS"
      ]
    },
    "kernelspec": {
      "name": "python3",
      "display_name": "Python 3"
    },
    "language_info": {
      "name": "python"
    }
  },
  "cells": [
    {
      "cell_type": "markdown",
      "source": [
        "# Тема 01. Работа с табличными данными. EDA\n",
        "Большое количество данных, которые используются в машинном обучении, представлены в виде таблиц, где в столбцах представлены различные признаки и целевые переменные. \n",
        "Для работы с такими данными в Python есть замечательная библиотека [`pandas`](https://pandas.pydata.org/docs/user_guide/index.html). К пандам отношения не имеет, название пошло от \"панельные данные\".\n"
      ],
      "metadata": {
        "id": "0Lc1ZIt825Hf"
      }
    },
    {
      "cell_type": "markdown",
      "metadata": {
        "id": "Fyq-quJv93Hw"
      },
      "source": [
        "## Создание и индексация\n",
        "В `pandas` два основных вида объектов (типов) Series и Dataframe, они похожи между собой, но Dataframe это фактически таблица, в которой есть строки, столбцы, а Series это один столбец со строками.\n",
        "Столбцы и\\или строки могут иметь названия, которые выступают их индексами и к определенному столбцу (или строке) можно обращаться именно по названию.  \n",
        "\n",
        "Создадим Series (давайте назовем это последовательностью), в которой будут записаны некоторые данные имеющие названия (индексы). И данные (data) и индексы (index) могут иметь различный тип: числа, строки, объекты.\n",
        "\n",
        "Но будьте аккуратны, индексы надо делать так, чтобы было понятно. Ниже увидим примеры разрешенных, но совершенно не понятных индексов. "
      ]
    },
    {
      "cell_type": "code",
      "execution_count": null,
      "metadata": {
        "id": "xdQMbaLXFGc6"
      },
      "outputs": [],
      "source": [
        "import pandas as pd # подключим библиотеку\n",
        "import numpy as np"
      ]
    },
    {
      "cell_type": "markdown",
      "source": [
        "### Series"
      ],
      "metadata": {
        "id": "fc58m7DtG-tB"
      }
    },
    {
      "cell_type": "code",
      "source": [
        "s = pd.Series(data=[10, \"11\", ['a',12], 'ppp', 14], # данные\n",
        "              index=[2, '2', 'два', 2, -2]) # их индексы\n",
        "s # здесь 5 ячеек "
      ],
      "metadata": {
        "colab": {
          "base_uri": "https://localhost:8080/"
        },
        "id": "TMuo2_n2F2EN",
        "outputId": "e18e0cdd-2f16-40ab-bfe2-e02055d47248"
      },
      "execution_count": null,
      "outputs": [
        {
          "output_type": "execute_result",
          "data": {
            "text/plain": [
              "2           10\n",
              "2           11\n",
              "два    [a, 12]\n",
              "2          ppp\n",
              "-2          14\n",
              "dtype: object"
            ]
          },
          "metadata": {},
          "execution_count": 2
        }
      ]
    },
    {
      "cell_type": "markdown",
      "metadata": {
        "ExecuteTime": {
          "end_time": "2020-08-07T08:27:06.550316Z",
          "start_time": "2020-08-07T08:27:06.541316Z"
        },
        "id": "QzI1QPwR93H0"
      },
      "source": [
        "в этой последовательности 5 ячеек (data) и к ним можно обратиться по индексам (index), важно понять, что здесь индексы именно названия, а не номера строк. "
      ]
    },
    {
      "cell_type": "code",
      "metadata": {
        "ExecuteTime": {
          "end_time": "2020-10-11T07:30:49.765089Z",
          "start_time": "2020-10-11T07:30:49.726087Z"
        },
        "colab": {
          "base_uri": "https://localhost:8080/"
        },
        "id": "VOr4iCeL93H1",
        "outputId": "d5962286-3018-46bf-b663-914a7997535b"
      },
      "source": [
        "print(s[2]) # здесь вернется подпоследовательность элементов у которых индекс называется 2 (первая и четвертая ячейки)\n",
        "print(s['2']) # это ячейка с названием '2', это совершенно другой индекс, отличается от названия 2 (вторая ячейка)\n",
        "print(s['два']) # это ячейка с названием 'два', третья ячейка, в которой записан массив\n",
        "print(s[-2]) # это ячейка с названием -2, пятая ячейка"
      ],
      "execution_count": null,
      "outputs": [
        {
          "output_type": "stream",
          "name": "stdout",
          "text": [
            "2     10\n",
            "2    ppp\n",
            "dtype: object\n",
            "11\n",
            "['a', 12]\n",
            "14\n"
          ]
        }
      ]
    },
    {
      "cell_type": "markdown",
      "metadata": {
        "ExecuteTime": {
          "end_time": "2020-08-07T08:27:06.550316Z",
          "start_time": "2020-08-07T08:27:06.541316Z"
        },
        "id": "G4nWy_GLGg-V"
      },
      "source": [
        "Как и в numpy можно делать срезы, в этом случае указываются номера, а не названия элементов."
      ]
    },
    {
      "cell_type": "code",
      "metadata": {
        "ExecuteTime": {
          "end_time": "2020-10-11T07:30:49.794090Z",
          "start_time": "2020-10-11T07:30:49.766089Z"
        },
        "colab": {
          "base_uri": "https://localhost:8080/"
        },
        "id": "rLKZEbIk93H3",
        "outputId": "7fca98e4-aede-4d2d-c807-2c18ad5e3304"
      },
      "source": [
        "s[1:3] # срез, вторая и третья ячейки, здесь это номера, а не названия."
      ],
      "execution_count": null,
      "outputs": [
        {
          "output_type": "execute_result",
          "data": {
            "text/plain": [
              "2           11\n",
              "два    [a, 12]\n",
              "dtype: object"
            ]
          },
          "metadata": {},
          "execution_count": 7
        }
      ]
    },
    {
      "cell_type": "markdown",
      "metadata": {
        "id": "Y-QmSpX693H4"
      },
      "source": [
        "Но срезы могут быть строковыми (удивительно), тогда это именно названия. Pandas сопоставит символьные индексы числовым, найдет их в последовательности, и вернет все, что между ними, включая границы. "
      ]
    },
    {
      "cell_type": "code",
      "metadata": {
        "ExecuteTime": {
          "end_time": "2020-10-11T07:30:49.830093Z",
          "start_time": "2020-10-11T07:30:49.795091Z"
        },
        "colab": {
          "base_uri": "https://localhost:8080/"
        },
        "id": "-3j25swr93H4",
        "outputId": "8c164648-7c0c-4696-ae69-63bd2f3b262f"
      },
      "source": [
        "v = pd.Series(data=[10, \"11\", ['a',12], 'ppp', 14], # данные\n",
        "              index=['a', 'f', 'c', 'd', 'e']) # их индексы\n",
        "v['a':'d']\n",
        "# v['a':'g'] # так работать не будет, потому что индекса 'g' нет. "
      ],
      "execution_count": null,
      "outputs": [
        {
          "output_type": "execute_result",
          "data": {
            "text/plain": [
              "a         10\n",
              "f         11\n",
              "c    [a, 12]\n",
              "d        ppp\n",
              "dtype: object"
            ]
          },
          "metadata": {},
          "execution_count": 8
        }
      ]
    },
    {
      "cell_type": "markdown",
      "metadata": {
        "id": "aFeBW1Wo93H6"
      },
      "source": [
        "Создай свои последовательности, обратись к элементам. Проверь, что будет если при создании последовательности не указать index?  А если при строковом индексе в последовательности индексы будут повторяться? "
      ]
    },
    {
      "cell_type": "code",
      "source": [
        ""
      ],
      "metadata": {
        "id": "_fygV86EG8a1"
      },
      "execution_count": null,
      "outputs": []
    },
    {
      "cell_type": "markdown",
      "source": [
        "### Dataframe"
      ],
      "metadata": {
        "id": "CoTXVO5uHfQ9"
      }
    },
    {
      "cell_type": "markdown",
      "source": [
        "Аналогично можно создать таблицу Dataframe, в которой несколько столбцов. "
      ],
      "metadata": {
        "id": "t0-pC5LlG864"
      }
    },
    {
      "cell_type": "code",
      "source": [
        "s = pd.Series(data=[123, 456, 789])\n",
        "s"
      ],
      "metadata": {
        "colab": {
          "base_uri": "https://localhost:8080/"
        },
        "id": "s9VDGSW4JenA",
        "outputId": "840b2cbf-143c-4e3a-9f84-88d3677c106e"
      },
      "execution_count": null,
      "outputs": [
        {
          "output_type": "execute_result",
          "data": {
            "text/plain": [
              "0    123\n",
              "1    456\n",
              "2    789\n",
              "dtype: int64"
            ]
          },
          "metadata": {},
          "execution_count": 34
        }
      ]
    },
    {
      "cell_type": "code",
      "metadata": {
        "ExecuteTime": {
          "end_time": "2020-10-11T07:30:49.905097Z",
          "start_time": "2020-10-11T07:30:49.831093Z"
        },
        "colab": {
          "base_uri": "https://localhost:8080/",
          "height": 143
        },
        "id": "agwTjNpS93H7",
        "outputId": "84e7397a-c031-409a-8b83-4be5165de590"
      },
      "source": [
        "df = pd.DataFrame([[10, 'aaa'], [s, 21], [30, 31]])\n",
        "df"
      ],
      "execution_count": null,
      "outputs": [
        {
          "output_type": "execute_result",
          "data": {
            "text/plain": [
              "                                         0    1\n",
              "0                                       10  aaa\n",
              "1  0    123\n",
              "1    456\n",
              "2    789\n",
              "dtype: int64   21\n",
              "2                                       30   31"
            ],
            "text/html": [
              "\n",
              "  <div id=\"df-84f83357-0696-472d-94b8-28baf3e88ff2\">\n",
              "    <div class=\"colab-df-container\">\n",
              "      <div>\n",
              "<style scoped>\n",
              "    .dataframe tbody tr th:only-of-type {\n",
              "        vertical-align: middle;\n",
              "    }\n",
              "\n",
              "    .dataframe tbody tr th {\n",
              "        vertical-align: top;\n",
              "    }\n",
              "\n",
              "    .dataframe thead th {\n",
              "        text-align: right;\n",
              "    }\n",
              "</style>\n",
              "<table border=\"1\" class=\"dataframe\">\n",
              "  <thead>\n",
              "    <tr style=\"text-align: right;\">\n",
              "      <th></th>\n",
              "      <th>0</th>\n",
              "      <th>1</th>\n",
              "    </tr>\n",
              "  </thead>\n",
              "  <tbody>\n",
              "    <tr>\n",
              "      <th>0</th>\n",
              "      <td>10</td>\n",
              "      <td>aaa</td>\n",
              "    </tr>\n",
              "    <tr>\n",
              "      <th>1</th>\n",
              "      <td>0    123\n",
              "1    456\n",
              "2    789\n",
              "dtype: int64</td>\n",
              "      <td>21</td>\n",
              "    </tr>\n",
              "    <tr>\n",
              "      <th>2</th>\n",
              "      <td>30</td>\n",
              "      <td>31</td>\n",
              "    </tr>\n",
              "  </tbody>\n",
              "</table>\n",
              "</div>\n",
              "      <button class=\"colab-df-convert\" onclick=\"convertToInteractive('df-84f83357-0696-472d-94b8-28baf3e88ff2')\"\n",
              "              title=\"Convert this dataframe to an interactive table.\"\n",
              "              style=\"display:none;\">\n",
              "        \n",
              "  <svg xmlns=\"http://www.w3.org/2000/svg\" height=\"24px\"viewBox=\"0 0 24 24\"\n",
              "       width=\"24px\">\n",
              "    <path d=\"M0 0h24v24H0V0z\" fill=\"none\"/>\n",
              "    <path d=\"M18.56 5.44l.94 2.06.94-2.06 2.06-.94-2.06-.94-.94-2.06-.94 2.06-2.06.94zm-11 1L8.5 8.5l.94-2.06 2.06-.94-2.06-.94L8.5 2.5l-.94 2.06-2.06.94zm10 10l.94 2.06.94-2.06 2.06-.94-2.06-.94-.94-2.06-.94 2.06-2.06.94z\"/><path d=\"M17.41 7.96l-1.37-1.37c-.4-.4-.92-.59-1.43-.59-.52 0-1.04.2-1.43.59L10.3 9.45l-7.72 7.72c-.78.78-.78 2.05 0 2.83L4 21.41c.39.39.9.59 1.41.59.51 0 1.02-.2 1.41-.59l7.78-7.78 2.81-2.81c.8-.78.8-2.07 0-2.86zM5.41 20L4 18.59l7.72-7.72 1.47 1.35L5.41 20z\"/>\n",
              "  </svg>\n",
              "      </button>\n",
              "      \n",
              "  <style>\n",
              "    .colab-df-container {\n",
              "      display:flex;\n",
              "      flex-wrap:wrap;\n",
              "      gap: 12px;\n",
              "    }\n",
              "\n",
              "    .colab-df-convert {\n",
              "      background-color: #E8F0FE;\n",
              "      border: none;\n",
              "      border-radius: 50%;\n",
              "      cursor: pointer;\n",
              "      display: none;\n",
              "      fill: #1967D2;\n",
              "      height: 32px;\n",
              "      padding: 0 0 0 0;\n",
              "      width: 32px;\n",
              "    }\n",
              "\n",
              "    .colab-df-convert:hover {\n",
              "      background-color: #E2EBFA;\n",
              "      box-shadow: 0px 1px 2px rgba(60, 64, 67, 0.3), 0px 1px 3px 1px rgba(60, 64, 67, 0.15);\n",
              "      fill: #174EA6;\n",
              "    }\n",
              "\n",
              "    [theme=dark] .colab-df-convert {\n",
              "      background-color: #3B4455;\n",
              "      fill: #D2E3FC;\n",
              "    }\n",
              "\n",
              "    [theme=dark] .colab-df-convert:hover {\n",
              "      background-color: #434B5C;\n",
              "      box-shadow: 0px 1px 3px 1px rgba(0, 0, 0, 0.15);\n",
              "      filter: drop-shadow(0px 1px 2px rgba(0, 0, 0, 0.3));\n",
              "      fill: #FFFFFF;\n",
              "    }\n",
              "  </style>\n",
              "\n",
              "      <script>\n",
              "        const buttonEl =\n",
              "          document.querySelector('#df-84f83357-0696-472d-94b8-28baf3e88ff2 button.colab-df-convert');\n",
              "        buttonEl.style.display =\n",
              "          google.colab.kernel.accessAllowed ? 'block' : 'none';\n",
              "\n",
              "        async function convertToInteractive(key) {\n",
              "          const element = document.querySelector('#df-84f83357-0696-472d-94b8-28baf3e88ff2');\n",
              "          const dataTable =\n",
              "            await google.colab.kernel.invokeFunction('convertToInteractive',\n",
              "                                                     [key], {});\n",
              "          if (!dataTable) return;\n",
              "\n",
              "          const docLinkHtml = 'Like what you see? Visit the ' +\n",
              "            '<a target=\"_blank\" href=https://colab.research.google.com/notebooks/data_table.ipynb>data table notebook</a>'\n",
              "            + ' to learn more about interactive tables.';\n",
              "          element.innerHTML = '';\n",
              "          dataTable['output_type'] = 'display_data';\n",
              "          await google.colab.output.renderOutput(dataTable, element);\n",
              "          const docLink = document.createElement('div');\n",
              "          docLink.innerHTML = docLinkHtml;\n",
              "          element.appendChild(docLink);\n",
              "        }\n",
              "      </script>\n",
              "    </div>\n",
              "  </div>\n",
              "  "
            ]
          },
          "metadata": {},
          "execution_count": 35
        }
      ]
    },
    {
      "cell_type": "markdown",
      "metadata": {
        "id": "k-Zs7oSD93H8"
      },
      "source": [
        "здесь два столбца, три строки, названия их сделаны по умолчанию, в одну ячейку мы записали последовательность s. \n",
        "Столбцы (columns) и строки (index) можно назвать.\n"
      ]
    },
    {
      "cell_type": "code",
      "metadata": {
        "ExecuteTime": {
          "end_time": "2020-10-11T07:30:49.916097Z",
          "start_time": "2020-10-11T07:30:49.907097Z"
        },
        "colab": {
          "base_uri": "https://localhost:8080/",
          "height": 143
        },
        "id": "Wp5uz5Sl93H8",
        "outputId": "e0cda746-0682-4f5b-ffb9-51e17dec3abf"
      },
      "source": [
        "df = pd.DataFrame([[10, 'aaa'], [s, 21], [30, 31]],\n",
        "                  columns=['невторой',2],\n",
        "                  index=[1,'1','один'])\n",
        "df"
      ],
      "execution_count": null,
      "outputs": [
        {
          "output_type": "execute_result",
          "data": {
            "text/plain": [
              "                                     невторой    2\n",
              "1                                          10  aaa\n",
              "1     0    123\n",
              "1    456\n",
              "2    789\n",
              "dtype: int64   21\n",
              "один                                       30   31"
            ],
            "text/html": [
              "\n",
              "  <div id=\"df-257cda19-6ca6-4db1-b55a-9b8e5177c391\">\n",
              "    <div class=\"colab-df-container\">\n",
              "      <div>\n",
              "<style scoped>\n",
              "    .dataframe tbody tr th:only-of-type {\n",
              "        vertical-align: middle;\n",
              "    }\n",
              "\n",
              "    .dataframe tbody tr th {\n",
              "        vertical-align: top;\n",
              "    }\n",
              "\n",
              "    .dataframe thead th {\n",
              "        text-align: right;\n",
              "    }\n",
              "</style>\n",
              "<table border=\"1\" class=\"dataframe\">\n",
              "  <thead>\n",
              "    <tr style=\"text-align: right;\">\n",
              "      <th></th>\n",
              "      <th>невторой</th>\n",
              "      <th>2</th>\n",
              "    </tr>\n",
              "  </thead>\n",
              "  <tbody>\n",
              "    <tr>\n",
              "      <th>1</th>\n",
              "      <td>10</td>\n",
              "      <td>aaa</td>\n",
              "    </tr>\n",
              "    <tr>\n",
              "      <th>1</th>\n",
              "      <td>0    123\n",
              "1    456\n",
              "2    789\n",
              "dtype: int64</td>\n",
              "      <td>21</td>\n",
              "    </tr>\n",
              "    <tr>\n",
              "      <th>один</th>\n",
              "      <td>30</td>\n",
              "      <td>31</td>\n",
              "    </tr>\n",
              "  </tbody>\n",
              "</table>\n",
              "</div>\n",
              "      <button class=\"colab-df-convert\" onclick=\"convertToInteractive('df-257cda19-6ca6-4db1-b55a-9b8e5177c391')\"\n",
              "              title=\"Convert this dataframe to an interactive table.\"\n",
              "              style=\"display:none;\">\n",
              "        \n",
              "  <svg xmlns=\"http://www.w3.org/2000/svg\" height=\"24px\"viewBox=\"0 0 24 24\"\n",
              "       width=\"24px\">\n",
              "    <path d=\"M0 0h24v24H0V0z\" fill=\"none\"/>\n",
              "    <path d=\"M18.56 5.44l.94 2.06.94-2.06 2.06-.94-2.06-.94-.94-2.06-.94 2.06-2.06.94zm-11 1L8.5 8.5l.94-2.06 2.06-.94-2.06-.94L8.5 2.5l-.94 2.06-2.06.94zm10 10l.94 2.06.94-2.06 2.06-.94-2.06-.94-.94-2.06-.94 2.06-2.06.94z\"/><path d=\"M17.41 7.96l-1.37-1.37c-.4-.4-.92-.59-1.43-.59-.52 0-1.04.2-1.43.59L10.3 9.45l-7.72 7.72c-.78.78-.78 2.05 0 2.83L4 21.41c.39.39.9.59 1.41.59.51 0 1.02-.2 1.41-.59l7.78-7.78 2.81-2.81c.8-.78.8-2.07 0-2.86zM5.41 20L4 18.59l7.72-7.72 1.47 1.35L5.41 20z\"/>\n",
              "  </svg>\n",
              "      </button>\n",
              "      \n",
              "  <style>\n",
              "    .colab-df-container {\n",
              "      display:flex;\n",
              "      flex-wrap:wrap;\n",
              "      gap: 12px;\n",
              "    }\n",
              "\n",
              "    .colab-df-convert {\n",
              "      background-color: #E8F0FE;\n",
              "      border: none;\n",
              "      border-radius: 50%;\n",
              "      cursor: pointer;\n",
              "      display: none;\n",
              "      fill: #1967D2;\n",
              "      height: 32px;\n",
              "      padding: 0 0 0 0;\n",
              "      width: 32px;\n",
              "    }\n",
              "\n",
              "    .colab-df-convert:hover {\n",
              "      background-color: #E2EBFA;\n",
              "      box-shadow: 0px 1px 2px rgba(60, 64, 67, 0.3), 0px 1px 3px 1px rgba(60, 64, 67, 0.15);\n",
              "      fill: #174EA6;\n",
              "    }\n",
              "\n",
              "    [theme=dark] .colab-df-convert {\n",
              "      background-color: #3B4455;\n",
              "      fill: #D2E3FC;\n",
              "    }\n",
              "\n",
              "    [theme=dark] .colab-df-convert:hover {\n",
              "      background-color: #434B5C;\n",
              "      box-shadow: 0px 1px 3px 1px rgba(0, 0, 0, 0.15);\n",
              "      filter: drop-shadow(0px 1px 2px rgba(0, 0, 0, 0.3));\n",
              "      fill: #FFFFFF;\n",
              "    }\n",
              "  </style>\n",
              "\n",
              "      <script>\n",
              "        const buttonEl =\n",
              "          document.querySelector('#df-257cda19-6ca6-4db1-b55a-9b8e5177c391 button.colab-df-convert');\n",
              "        buttonEl.style.display =\n",
              "          google.colab.kernel.accessAllowed ? 'block' : 'none';\n",
              "\n",
              "        async function convertToInteractive(key) {\n",
              "          const element = document.querySelector('#df-257cda19-6ca6-4db1-b55a-9b8e5177c391');\n",
              "          const dataTable =\n",
              "            await google.colab.kernel.invokeFunction('convertToInteractive',\n",
              "                                                     [key], {});\n",
              "          if (!dataTable) return;\n",
              "\n",
              "          const docLinkHtml = 'Like what you see? Visit the ' +\n",
              "            '<a target=\"_blank\" href=https://colab.research.google.com/notebooks/data_table.ipynb>data table notebook</a>'\n",
              "            + ' to learn more about interactive tables.';\n",
              "          element.innerHTML = '';\n",
              "          dataTable['output_type'] = 'display_data';\n",
              "          await google.colab.output.renderOutput(dataTable, element);\n",
              "          const docLink = document.createElement('div');\n",
              "          docLink.innerHTML = docLinkHtml;\n",
              "          element.appendChild(docLink);\n",
              "        }\n",
              "      </script>\n",
              "    </div>\n",
              "  </div>\n",
              "  "
            ]
          },
          "metadata": {},
          "execution_count": 36
        }
      ]
    },
    {
      "cell_type": "markdown",
      "metadata": {
        "ExecuteTime": {
          "end_time": "2020-08-07T09:10:47.781242Z",
          "start_time": "2020-08-07T09:10:47.775242Z"
        },
        "id": "tYewy45f93H9"
      },
      "source": [
        "При индексации по названию сначала указываем название столбца - вернется весь столбец в виде последовательности - потом для нее указываем название строки."
      ]
    },
    {
      "cell_type": "code",
      "metadata": {
        "ExecuteTime": {
          "end_time": "2020-10-11T07:30:49.949099Z",
          "start_time": "2020-10-11T07:30:49.918098Z"
        },
        "colab": {
          "base_uri": "https://localhost:8080/"
        },
        "id": "boeTLIBi93H-",
        "outputId": "b39ea429-bafd-4165-d05b-e8c0d1a8b1b0"
      },
      "source": [
        "s1=df['невторой']['один']\n",
        "s1"
      ],
      "execution_count": null,
      "outputs": [
        {
          "output_type": "execute_result",
          "data": {
            "text/plain": [
              "30"
            ]
          },
          "metadata": {},
          "execution_count": 37
        }
      ]
    },
    {
      "cell_type": "markdown",
      "metadata": {
        "id": "U5ghQLWh93H-"
      },
      "source": [
        "Названия столбцов содержатся в атрибуте columns и их можно изменять.\n",
        "\n",
        "В некоторых случаях к столбцу можно обратиться как к атрибуту через знак \".\" Но это работает не всегда.\n",
        "Попробуйте назвать столбец \"столбец 1\" или 'index' или \"1\" и посмотрите, что получится. "
      ]
    },
    {
      "cell_type": "code",
      "metadata": {
        "ExecuteTime": {
          "end_time": "2020-10-11T07:30:49.987102Z",
          "start_time": "2020-10-11T07:30:49.950099Z"
        },
        "colab": {
          "base_uri": "https://localhost:8080/",
          "height": 143
        },
        "id": "ChR9KwqO93H-",
        "outputId": "b5a7a351-1793-446a-e35c-dc34a3c16b87"
      },
      "source": [
        "# df.columns=['столбец 1',2] # изменяем названия столбцов\n",
        "df.columns=['невторой','second']\n",
        "# df.columns=['index','second']\n",
        "df"
      ],
      "execution_count": null,
      "outputs": [
        {
          "output_type": "execute_result",
          "data": {
            "text/plain": [
              "                                     невторой second\n",
              "1                                          10    aaa\n",
              "1     0    123\n",
              "1    456\n",
              "2    789\n",
              "dtype: int64     21\n",
              "один                                       30     31"
            ],
            "text/html": [
              "\n",
              "  <div id=\"df-f0856a59-f52a-4cdc-82ab-8a1a420fdb5e\">\n",
              "    <div class=\"colab-df-container\">\n",
              "      <div>\n",
              "<style scoped>\n",
              "    .dataframe tbody tr th:only-of-type {\n",
              "        vertical-align: middle;\n",
              "    }\n",
              "\n",
              "    .dataframe tbody tr th {\n",
              "        vertical-align: top;\n",
              "    }\n",
              "\n",
              "    .dataframe thead th {\n",
              "        text-align: right;\n",
              "    }\n",
              "</style>\n",
              "<table border=\"1\" class=\"dataframe\">\n",
              "  <thead>\n",
              "    <tr style=\"text-align: right;\">\n",
              "      <th></th>\n",
              "      <th>невторой</th>\n",
              "      <th>second</th>\n",
              "    </tr>\n",
              "  </thead>\n",
              "  <tbody>\n",
              "    <tr>\n",
              "      <th>1</th>\n",
              "      <td>10</td>\n",
              "      <td>aaa</td>\n",
              "    </tr>\n",
              "    <tr>\n",
              "      <th>1</th>\n",
              "      <td>0    123\n",
              "1    456\n",
              "2    789\n",
              "dtype: int64</td>\n",
              "      <td>21</td>\n",
              "    </tr>\n",
              "    <tr>\n",
              "      <th>один</th>\n",
              "      <td>30</td>\n",
              "      <td>31</td>\n",
              "    </tr>\n",
              "  </tbody>\n",
              "</table>\n",
              "</div>\n",
              "      <button class=\"colab-df-convert\" onclick=\"convertToInteractive('df-f0856a59-f52a-4cdc-82ab-8a1a420fdb5e')\"\n",
              "              title=\"Convert this dataframe to an interactive table.\"\n",
              "              style=\"display:none;\">\n",
              "        \n",
              "  <svg xmlns=\"http://www.w3.org/2000/svg\" height=\"24px\"viewBox=\"0 0 24 24\"\n",
              "       width=\"24px\">\n",
              "    <path d=\"M0 0h24v24H0V0z\" fill=\"none\"/>\n",
              "    <path d=\"M18.56 5.44l.94 2.06.94-2.06 2.06-.94-2.06-.94-.94-2.06-.94 2.06-2.06.94zm-11 1L8.5 8.5l.94-2.06 2.06-.94-2.06-.94L8.5 2.5l-.94 2.06-2.06.94zm10 10l.94 2.06.94-2.06 2.06-.94-2.06-.94-.94-2.06-.94 2.06-2.06.94z\"/><path d=\"M17.41 7.96l-1.37-1.37c-.4-.4-.92-.59-1.43-.59-.52 0-1.04.2-1.43.59L10.3 9.45l-7.72 7.72c-.78.78-.78 2.05 0 2.83L4 21.41c.39.39.9.59 1.41.59.51 0 1.02-.2 1.41-.59l7.78-7.78 2.81-2.81c.8-.78.8-2.07 0-2.86zM5.41 20L4 18.59l7.72-7.72 1.47 1.35L5.41 20z\"/>\n",
              "  </svg>\n",
              "      </button>\n",
              "      \n",
              "  <style>\n",
              "    .colab-df-container {\n",
              "      display:flex;\n",
              "      flex-wrap:wrap;\n",
              "      gap: 12px;\n",
              "    }\n",
              "\n",
              "    .colab-df-convert {\n",
              "      background-color: #E8F0FE;\n",
              "      border: none;\n",
              "      border-radius: 50%;\n",
              "      cursor: pointer;\n",
              "      display: none;\n",
              "      fill: #1967D2;\n",
              "      height: 32px;\n",
              "      padding: 0 0 0 0;\n",
              "      width: 32px;\n",
              "    }\n",
              "\n",
              "    .colab-df-convert:hover {\n",
              "      background-color: #E2EBFA;\n",
              "      box-shadow: 0px 1px 2px rgba(60, 64, 67, 0.3), 0px 1px 3px 1px rgba(60, 64, 67, 0.15);\n",
              "      fill: #174EA6;\n",
              "    }\n",
              "\n",
              "    [theme=dark] .colab-df-convert {\n",
              "      background-color: #3B4455;\n",
              "      fill: #D2E3FC;\n",
              "    }\n",
              "\n",
              "    [theme=dark] .colab-df-convert:hover {\n",
              "      background-color: #434B5C;\n",
              "      box-shadow: 0px 1px 3px 1px rgba(0, 0, 0, 0.15);\n",
              "      filter: drop-shadow(0px 1px 2px rgba(0, 0, 0, 0.3));\n",
              "      fill: #FFFFFF;\n",
              "    }\n",
              "  </style>\n",
              "\n",
              "      <script>\n",
              "        const buttonEl =\n",
              "          document.querySelector('#df-f0856a59-f52a-4cdc-82ab-8a1a420fdb5e button.colab-df-convert');\n",
              "        buttonEl.style.display =\n",
              "          google.colab.kernel.accessAllowed ? 'block' : 'none';\n",
              "\n",
              "        async function convertToInteractive(key) {\n",
              "          const element = document.querySelector('#df-f0856a59-f52a-4cdc-82ab-8a1a420fdb5e');\n",
              "          const dataTable =\n",
              "            await google.colab.kernel.invokeFunction('convertToInteractive',\n",
              "                                                     [key], {});\n",
              "          if (!dataTable) return;\n",
              "\n",
              "          const docLinkHtml = 'Like what you see? Visit the ' +\n",
              "            '<a target=\"_blank\" href=https://colab.research.google.com/notebooks/data_table.ipynb>data table notebook</a>'\n",
              "            + ' to learn more about interactive tables.';\n",
              "          element.innerHTML = '';\n",
              "          dataTable['output_type'] = 'display_data';\n",
              "          await google.colab.output.renderOutput(dataTable, element);\n",
              "          const docLink = document.createElement('div');\n",
              "          docLink.innerHTML = docLinkHtml;\n",
              "          element.appendChild(docLink);\n",
              "        }\n",
              "      </script>\n",
              "    </div>\n",
              "  </div>\n",
              "  "
            ]
          },
          "metadata": {},
          "execution_count": 38
        }
      ]
    },
    {
      "cell_type": "code",
      "metadata": {
        "ExecuteTime": {
          "end_time": "2020-10-11T07:30:50.018103Z",
          "start_time": "2020-10-11T07:30:49.988102Z"
        },
        "colab": {
          "base_uri": "https://localhost:8080/"
        },
        "id": "ZVz1ubyo93H_",
        "outputId": "45db845d-fa01-4b3e-eeb8-cbce2948d0ca"
      },
      "source": [
        "df.невторой # работает, название столбца как атрибут"
      ],
      "execution_count": null,
      "outputs": [
        {
          "output_type": "execute_result",
          "data": {
            "text/plain": [
              "1                                            10\n",
              "1       0    123\n",
              "1    456\n",
              "2    789\n",
              "dtype: int64\n",
              "один                                         30\n",
              "Name: невторой, dtype: object"
            ]
          },
          "metadata": {},
          "execution_count": 39
        }
      ]
    },
    {
      "cell_type": "code",
      "metadata": {
        "ExecuteTime": {
          "end_time": "2020-10-11T07:30:50.048105Z",
          "start_time": "2020-10-11T07:30:50.019103Z"
        },
        "colab": {
          "base_uri": "https://localhost:8080/",
          "height": 134
        },
        "id": "8lgZd5kt93H_",
        "outputId": "55d3b2a9-c862-46fa-8565-a0d62ad7589b"
      },
      "source": [
        "#  а вот с такими названиями работать не будет \n",
        "df.столбец 1  \n",
        "df.'столбец 1'"
      ],
      "execution_count": null,
      "outputs": [
        {
          "output_type": "error",
          "ename": "SyntaxError",
          "evalue": "ignored",
          "traceback": [
            "\u001b[0;36m  File \u001b[0;32m\"<ipython-input-17-3fdd4734ef68>\"\u001b[0;36m, line \u001b[0;32m2\u001b[0m\n\u001b[0;31m    df.столбец 1\u001b[0m\n\u001b[0m               ^\u001b[0m\n\u001b[0;31mSyntaxError\u001b[0m\u001b[0;31m:\u001b[0m invalid syntax\n"
          ]
        }
      ]
    },
    {
      "cell_type": "code",
      "metadata": {
        "ExecuteTime": {
          "end_time": "2020-10-11T07:32:41.206463Z",
          "start_time": "2020-10-11T07:32:41.199463Z"
        },
        "colab": {
          "base_uri": "https://localhost:8080/"
        },
        "id": "spx9UBOy93IA",
        "outputId": "aa28b93d-e21c-4462-85a5-e0c7af90cb40"
      },
      "source": [
        "# так ошибку не выдает, но выдает что-то не то. Это потому, что index уже определен как атрибут\n",
        "df.index"
      ],
      "execution_count": null,
      "outputs": [
        {
          "output_type": "execute_result",
          "data": {
            "text/plain": [
              "Index([1, '1', 'один'], dtype='object')"
            ]
          },
          "metadata": {},
          "execution_count": 40
        }
      ]
    },
    {
      "cell_type": "markdown",
      "metadata": {
        "ExecuteTime": {
          "end_time": "2020-08-07T09:37:01.484253Z",
          "start_time": "2020-08-07T09:37:01.479252Z"
        },
        "id": "L7dgMwM693IA"
      },
      "source": [
        "Атрибут index возвращает индекс (названия строк)\n",
        "\n",
        "Атрибут columns возвращает названия столбцов (для таблиц)\n",
        "\n",
        "Атрибут values возвращает значения ячеек как массив numpy"
      ]
    },
    {
      "cell_type": "code",
      "metadata": {
        "ExecuteTime": {
          "end_time": "2020-10-11T07:32:50.865015Z",
          "start_time": "2020-10-11T07:32:50.858015Z"
        },
        "colab": {
          "base_uri": "https://localhost:8080/"
        },
        "id": "yhVIr6kB93IA",
        "outputId": "36bc4563-f889-48c8-8fe2-15ece9ebe13b"
      },
      "source": [
        "print(df.index)\n",
        "print(df.columns)\n",
        "print(df.values)\n",
        "print(type(df.values))"
      ],
      "execution_count": null,
      "outputs": [
        {
          "output_type": "stream",
          "text": [
            "Index([1, '1', 'один'], dtype='object')\n",
            "Index(['невторой', 'second'], dtype='object')\n",
            "[[10 'aaa']\n",
            " [2           10\n",
            "2           11\n",
            "два    [a, 12]\n",
            "2          ppp\n",
            "-2          14\n",
            "dtype: object\n",
            "  21]\n",
            " [30 31]]\n",
            "<class 'numpy.ndarray'>\n"
          ],
          "name": "stdout"
        }
      ]
    },
    {
      "cell_type": "markdown",
      "metadata": {
        "id": "_xSGkPSO93IA"
      },
      "source": [
        "Срез выполняется по строкам"
      ]
    },
    {
      "cell_type": "code",
      "metadata": {
        "ExecuteTime": {
          "end_time": "2020-10-11T07:32:54.364215Z",
          "start_time": "2020-10-11T07:32:54.352215Z"
        },
        "colab": {
          "base_uri": "https://localhost:8080/",
          "height": 112
        },
        "id": "PCRjYquT93IB",
        "outputId": "5955f453-48f9-475b-a2ef-c7e27c7e2358"
      },
      "source": [
        "df[0:2]"
      ],
      "execution_count": null,
      "outputs": [
        {
          "output_type": "execute_result",
          "data": {
            "text/plain": [
              "                                            невторой second\n",
              "1                                                 10    aaa\n",
              "1  2           10\n",
              "2           11\n",
              "два    [a, 12]\n",
              "2...     21"
            ],
            "text/html": [
              "\n",
              "  <div id=\"df-2666b8b0-c6de-4ce9-a110-1c556f15bf9f\">\n",
              "    <div class=\"colab-df-container\">\n",
              "      <div>\n",
              "<style scoped>\n",
              "    .dataframe tbody tr th:only-of-type {\n",
              "        vertical-align: middle;\n",
              "    }\n",
              "\n",
              "    .dataframe tbody tr th {\n",
              "        vertical-align: top;\n",
              "    }\n",
              "\n",
              "    .dataframe thead th {\n",
              "        text-align: right;\n",
              "    }\n",
              "</style>\n",
              "<table border=\"1\" class=\"dataframe\">\n",
              "  <thead>\n",
              "    <tr style=\"text-align: right;\">\n",
              "      <th></th>\n",
              "      <th>невторой</th>\n",
              "      <th>second</th>\n",
              "    </tr>\n",
              "  </thead>\n",
              "  <tbody>\n",
              "    <tr>\n",
              "      <th>1</th>\n",
              "      <td>10</td>\n",
              "      <td>aaa</td>\n",
              "    </tr>\n",
              "    <tr>\n",
              "      <th>1</th>\n",
              "      <td>2           10\n",
              "2           11\n",
              "два    [a, 12]\n",
              "2...</td>\n",
              "      <td>21</td>\n",
              "    </tr>\n",
              "  </tbody>\n",
              "</table>\n",
              "</div>\n",
              "      <button class=\"colab-df-convert\" onclick=\"convertToInteractive('df-2666b8b0-c6de-4ce9-a110-1c556f15bf9f')\"\n",
              "              title=\"Convert this dataframe to an interactive table.\"\n",
              "              style=\"display:none;\">\n",
              "        \n",
              "  <svg xmlns=\"http://www.w3.org/2000/svg\" height=\"24px\"viewBox=\"0 0 24 24\"\n",
              "       width=\"24px\">\n",
              "    <path d=\"M0 0h24v24H0V0z\" fill=\"none\"/>\n",
              "    <path d=\"M18.56 5.44l.94 2.06.94-2.06 2.06-.94-2.06-.94-.94-2.06-.94 2.06-2.06.94zm-11 1L8.5 8.5l.94-2.06 2.06-.94-2.06-.94L8.5 2.5l-.94 2.06-2.06.94zm10 10l.94 2.06.94-2.06 2.06-.94-2.06-.94-.94-2.06-.94 2.06-2.06.94z\"/><path d=\"M17.41 7.96l-1.37-1.37c-.4-.4-.92-.59-1.43-.59-.52 0-1.04.2-1.43.59L10.3 9.45l-7.72 7.72c-.78.78-.78 2.05 0 2.83L4 21.41c.39.39.9.59 1.41.59.51 0 1.02-.2 1.41-.59l7.78-7.78 2.81-2.81c.8-.78.8-2.07 0-2.86zM5.41 20L4 18.59l7.72-7.72 1.47 1.35L5.41 20z\"/>\n",
              "  </svg>\n",
              "      </button>\n",
              "      \n",
              "  <style>\n",
              "    .colab-df-container {\n",
              "      display:flex;\n",
              "      flex-wrap:wrap;\n",
              "      gap: 12px;\n",
              "    }\n",
              "\n",
              "    .colab-df-convert {\n",
              "      background-color: #E8F0FE;\n",
              "      border: none;\n",
              "      border-radius: 50%;\n",
              "      cursor: pointer;\n",
              "      display: none;\n",
              "      fill: #1967D2;\n",
              "      height: 32px;\n",
              "      padding: 0 0 0 0;\n",
              "      width: 32px;\n",
              "    }\n",
              "\n",
              "    .colab-df-convert:hover {\n",
              "      background-color: #E2EBFA;\n",
              "      box-shadow: 0px 1px 2px rgba(60, 64, 67, 0.3), 0px 1px 3px 1px rgba(60, 64, 67, 0.15);\n",
              "      fill: #174EA6;\n",
              "    }\n",
              "\n",
              "    [theme=dark] .colab-df-convert {\n",
              "      background-color: #3B4455;\n",
              "      fill: #D2E3FC;\n",
              "    }\n",
              "\n",
              "    [theme=dark] .colab-df-convert:hover {\n",
              "      background-color: #434B5C;\n",
              "      box-shadow: 0px 1px 3px 1px rgba(0, 0, 0, 0.15);\n",
              "      filter: drop-shadow(0px 1px 2px rgba(0, 0, 0, 0.3));\n",
              "      fill: #FFFFFF;\n",
              "    }\n",
              "  </style>\n",
              "\n",
              "      <script>\n",
              "        const buttonEl =\n",
              "          document.querySelector('#df-2666b8b0-c6de-4ce9-a110-1c556f15bf9f button.colab-df-convert');\n",
              "        buttonEl.style.display =\n",
              "          google.colab.kernel.accessAllowed ? 'block' : 'none';\n",
              "\n",
              "        async function convertToInteractive(key) {\n",
              "          const element = document.querySelector('#df-2666b8b0-c6de-4ce9-a110-1c556f15bf9f');\n",
              "          const dataTable =\n",
              "            await google.colab.kernel.invokeFunction('convertToInteractive',\n",
              "                                                     [key], {});\n",
              "          if (!dataTable) return;\n",
              "\n",
              "          const docLinkHtml = 'Like what you see? Visit the ' +\n",
              "            '<a target=\"_blank\" href=https://colab.research.google.com/notebooks/data_table.ipynb>data table notebook</a>'\n",
              "            + ' to learn more about interactive tables.';\n",
              "          element.innerHTML = '';\n",
              "          dataTable['output_type'] = 'display_data';\n",
              "          await google.colab.output.renderOutput(dataTable, element);\n",
              "          const docLink = document.createElement('div');\n",
              "          docLink.innerHTML = docLinkHtml;\n",
              "          element.appendChild(docLink);\n",
              "        }\n",
              "      </script>\n",
              "    </div>\n",
              "  </div>\n",
              "  "
            ]
          },
          "metadata": {},
          "execution_count": 19
        }
      ]
    },
    {
      "cell_type": "markdown",
      "metadata": {
        "id": "WbRZuCvm93IB"
      },
      "source": [
        "Если нужно обращаться по номеру (числовому индексу), используем атрибут iloc, как если бы это был массив numpy. (Сначала строки, потом столбцы)"
      ]
    },
    {
      "cell_type": "code",
      "metadata": {
        "ExecuteTime": {
          "end_time": "2020-10-11T07:32:56.262324Z",
          "start_time": "2020-10-11T07:32:56.257324Z"
        },
        "id": "84-T9JJ-93IC"
      },
      "source": [
        "# df.iloc[0, 1]\n",
        "# df.iloc[1,:]"
      ],
      "execution_count": null,
      "outputs": []
    },
    {
      "cell_type": "markdown",
      "metadata": {
        "id": "pqQwcqpd93IC"
      },
      "source": [
        "Индексация может быть логической, истинные элементы (True) отбираются, ложные (False) отбрасываются. "
      ]
    },
    {
      "cell_type": "code",
      "metadata": {
        "ExecuteTime": {
          "end_time": "2020-10-11T07:33:00.437563Z",
          "start_time": "2020-10-11T07:33:00.386560Z"
        },
        "colab": {
          "base_uri": "https://localhost:8080/"
        },
        "id": "c_LyGCz993IC",
        "outputId": "90c068c6-d8ed-44b7-d6b8-689e9d2621ff"
      },
      "source": [
        "np.random.seed(123)\n",
        "s = pd.Series(np.random.normal(size=10))\n",
        "print(s)\n",
        "ind=s>0\n",
        "print(ind)\n",
        "r=s[ind]\n",
        "print(r)"
      ],
      "execution_count": null,
      "outputs": [
        {
          "output_type": "stream",
          "name": "stdout",
          "text": [
            "0   -1.085631\n",
            "1    0.997345\n",
            "2    0.282978\n",
            "3   -1.506295\n",
            "4   -0.578600\n",
            "5    1.651437\n",
            "6   -2.426679\n",
            "7   -0.428913\n",
            "8    1.265936\n",
            "9   -0.866740\n",
            "dtype: float64\n",
            "0    False\n",
            "1     True\n",
            "2     True\n",
            "3    False\n",
            "4    False\n",
            "5     True\n",
            "6    False\n",
            "7    False\n",
            "8     True\n",
            "9    False\n",
            "dtype: bool\n",
            "1    0.997345\n",
            "2    0.282978\n",
            "5    1.651437\n",
            "8    1.265936\n",
            "dtype: float64\n"
          ]
        }
      ]
    },
    {
      "cell_type": "markdown",
      "source": [
        "## Загрузка из файла\n",
        "\n",
        "Если б таблички нужно было создавать вручную, это было бы слишком утомительно, к счастью, pandas обладает богатыми возможностями по загрузке файлов таблиц разного формата, \\*.csv, \\*.xls и других, как с диска так и из Интернет.\n",
        "\n",
        "Команда [`read_csv()`](https://pandas.pydata.org/pandas-docs/stable/reference/api/pandas.read_csv.html) позволяет загрузить файлы csv с заданного файла на диске или адреса в Интернет (первый обязательный аргумент `filepath_or_buffer`). Это текстовые файлы, в которых столбцы таблиц разделяются некоторым символом (запятая, точка с запятой или другие), который можно указать команде (аргумент `sep`), возвращается объект типа Dataframe. У команды большие возможности по загрузке данных, можно ограничить количество загружаемых строк (аргумент `nrows`), можно указать загружаемые столбцы (аргумент `usecols`), указать, что делать со строками с пропущенными значениями и другие. "
      ],
      "metadata": {
        "id": "yXBFNhOpDQnR"
      }
    },
    {
      "cell_type": "code",
      "source": [
        "!git clone https://github.com/ViktorVlasov/ML_COURSE"
      ],
      "metadata": {
        "colab": {
          "base_uri": "https://localhost:8080/"
        },
        "id": "KXfSDLpvDP2F",
        "outputId": "b04d4711-1c22-46f7-ab74-4793b30a8d8b"
      },
      "execution_count": null,
      "outputs": [
        {
          "output_type": "stream",
          "name": "stdout",
          "text": [
            "Cloning into 'ML_COURSE'...\n",
            "remote: Enumerating objects: 13, done.\u001b[K\n",
            "remote: Counting objects: 100% (13/13), done.\u001b[K\n",
            "remote: Compressing objects: 100% (8/8), done.\u001b[K\n",
            "remote: Total 13 (delta 0), reused 7 (delta 0), pack-reused 0\u001b[K\n",
            "Unpacking objects: 100% (13/13), done.\n"
          ]
        }
      ]
    },
    {
      "cell_type": "markdown",
      "source": [
        "Будем рассматривать основные методы в деле, анализируя [набор данных по ценам на жилье в России](https://www.kaggle.com/c/sberbank-russian-housing-market/overview/description)"
      ],
      "metadata": {
        "id": "rCYP8uXXNKFn"
      }
    },
    {
      "cell_type": "markdown",
      "source": [
        "Прочитаем данные (метод read_csv) и посмотрим на первые 5 строк с помощью метода head:"
      ],
      "metadata": {
        "id": "QcZlwAq7Np4H"
      }
    },
    {
      "cell_type": "code",
      "source": [
        "df = pd.read_csv('/content/ML_COURSE/data/lesson 1/sberbank/train.csv')\n",
        "df.head()"
      ],
      "metadata": {
        "colab": {
          "base_uri": "https://localhost:8080/",
          "height": 386
        },
        "id": "AnfkTutWM9wJ",
        "outputId": "7506a45a-238b-4dab-fd1c-7da4391de198"
      },
      "execution_count": null,
      "outputs": [
        {
          "output_type": "execute_result",
          "data": {
            "text/plain": [
              "   id   timestamp  full_sq  life_sq  floor  max_floor  material  build_year  \\\n",
              "0   1  2011-08-20       43     27.0    4.0        NaN       NaN         NaN   \n",
              "1   2  2011-08-23       34     19.0    3.0        NaN       NaN         NaN   \n",
              "2   3  2011-08-27       43     29.0    2.0        NaN       NaN         NaN   \n",
              "3   4  2011-09-01       89     50.0    9.0        NaN       NaN         NaN   \n",
              "4   5  2011-09-05       77     77.0    4.0        NaN       NaN         NaN   \n",
              "\n",
              "   num_room  kitch_sq  ...  cafe_count_5000_price_2500  \\\n",
              "0       NaN       NaN  ...                           9   \n",
              "1       NaN       NaN  ...                          15   \n",
              "2       NaN       NaN  ...                          10   \n",
              "3       NaN       NaN  ...                          11   \n",
              "4       NaN       NaN  ...                         319   \n",
              "\n",
              "  cafe_count_5000_price_4000 cafe_count_5000_price_high  \\\n",
              "0                          4                          0   \n",
              "1                          3                          0   \n",
              "2                          3                          0   \n",
              "3                          2                          1   \n",
              "4                        108                         17   \n",
              "\n",
              "   big_church_count_5000  church_count_5000  mosque_count_5000  \\\n",
              "0                     13                 22                  1   \n",
              "1                     15                 29                  1   \n",
              "2                     11                 27                  0   \n",
              "3                      4                  4                  0   \n",
              "4                    135                236                  2   \n",
              "\n",
              "   leisure_count_5000  sport_count_5000  market_count_5000  price_doc  \n",
              "0                   0                52                  4    5850000  \n",
              "1                  10                66                 14    6000000  \n",
              "2                   4                67                 10    5700000  \n",
              "3                   0                26                  3   13100000  \n",
              "4                  91               195                 14   16331452  \n",
              "\n",
              "[5 rows x 292 columns]"
            ],
            "text/html": [
              "\n",
              "  <div id=\"df-413796a3-1c7c-4c19-bdea-e200ecacd1cb\">\n",
              "    <div class=\"colab-df-container\">\n",
              "      <div>\n",
              "<style scoped>\n",
              "    .dataframe tbody tr th:only-of-type {\n",
              "        vertical-align: middle;\n",
              "    }\n",
              "\n",
              "    .dataframe tbody tr th {\n",
              "        vertical-align: top;\n",
              "    }\n",
              "\n",
              "    .dataframe thead th {\n",
              "        text-align: right;\n",
              "    }\n",
              "</style>\n",
              "<table border=\"1\" class=\"dataframe\">\n",
              "  <thead>\n",
              "    <tr style=\"text-align: right;\">\n",
              "      <th></th>\n",
              "      <th>id</th>\n",
              "      <th>timestamp</th>\n",
              "      <th>full_sq</th>\n",
              "      <th>life_sq</th>\n",
              "      <th>floor</th>\n",
              "      <th>max_floor</th>\n",
              "      <th>material</th>\n",
              "      <th>build_year</th>\n",
              "      <th>num_room</th>\n",
              "      <th>kitch_sq</th>\n",
              "      <th>...</th>\n",
              "      <th>cafe_count_5000_price_2500</th>\n",
              "      <th>cafe_count_5000_price_4000</th>\n",
              "      <th>cafe_count_5000_price_high</th>\n",
              "      <th>big_church_count_5000</th>\n",
              "      <th>church_count_5000</th>\n",
              "      <th>mosque_count_5000</th>\n",
              "      <th>leisure_count_5000</th>\n",
              "      <th>sport_count_5000</th>\n",
              "      <th>market_count_5000</th>\n",
              "      <th>price_doc</th>\n",
              "    </tr>\n",
              "  </thead>\n",
              "  <tbody>\n",
              "    <tr>\n",
              "      <th>0</th>\n",
              "      <td>1</td>\n",
              "      <td>2011-08-20</td>\n",
              "      <td>43</td>\n",
              "      <td>27.0</td>\n",
              "      <td>4.0</td>\n",
              "      <td>NaN</td>\n",
              "      <td>NaN</td>\n",
              "      <td>NaN</td>\n",
              "      <td>NaN</td>\n",
              "      <td>NaN</td>\n",
              "      <td>...</td>\n",
              "      <td>9</td>\n",
              "      <td>4</td>\n",
              "      <td>0</td>\n",
              "      <td>13</td>\n",
              "      <td>22</td>\n",
              "      <td>1</td>\n",
              "      <td>0</td>\n",
              "      <td>52</td>\n",
              "      <td>4</td>\n",
              "      <td>5850000</td>\n",
              "    </tr>\n",
              "    <tr>\n",
              "      <th>1</th>\n",
              "      <td>2</td>\n",
              "      <td>2011-08-23</td>\n",
              "      <td>34</td>\n",
              "      <td>19.0</td>\n",
              "      <td>3.0</td>\n",
              "      <td>NaN</td>\n",
              "      <td>NaN</td>\n",
              "      <td>NaN</td>\n",
              "      <td>NaN</td>\n",
              "      <td>NaN</td>\n",
              "      <td>...</td>\n",
              "      <td>15</td>\n",
              "      <td>3</td>\n",
              "      <td>0</td>\n",
              "      <td>15</td>\n",
              "      <td>29</td>\n",
              "      <td>1</td>\n",
              "      <td>10</td>\n",
              "      <td>66</td>\n",
              "      <td>14</td>\n",
              "      <td>6000000</td>\n",
              "    </tr>\n",
              "    <tr>\n",
              "      <th>2</th>\n",
              "      <td>3</td>\n",
              "      <td>2011-08-27</td>\n",
              "      <td>43</td>\n",
              "      <td>29.0</td>\n",
              "      <td>2.0</td>\n",
              "      <td>NaN</td>\n",
              "      <td>NaN</td>\n",
              "      <td>NaN</td>\n",
              "      <td>NaN</td>\n",
              "      <td>NaN</td>\n",
              "      <td>...</td>\n",
              "      <td>10</td>\n",
              "      <td>3</td>\n",
              "      <td>0</td>\n",
              "      <td>11</td>\n",
              "      <td>27</td>\n",
              "      <td>0</td>\n",
              "      <td>4</td>\n",
              "      <td>67</td>\n",
              "      <td>10</td>\n",
              "      <td>5700000</td>\n",
              "    </tr>\n",
              "    <tr>\n",
              "      <th>3</th>\n",
              "      <td>4</td>\n",
              "      <td>2011-09-01</td>\n",
              "      <td>89</td>\n",
              "      <td>50.0</td>\n",
              "      <td>9.0</td>\n",
              "      <td>NaN</td>\n",
              "      <td>NaN</td>\n",
              "      <td>NaN</td>\n",
              "      <td>NaN</td>\n",
              "      <td>NaN</td>\n",
              "      <td>...</td>\n",
              "      <td>11</td>\n",
              "      <td>2</td>\n",
              "      <td>1</td>\n",
              "      <td>4</td>\n",
              "      <td>4</td>\n",
              "      <td>0</td>\n",
              "      <td>0</td>\n",
              "      <td>26</td>\n",
              "      <td>3</td>\n",
              "      <td>13100000</td>\n",
              "    </tr>\n",
              "    <tr>\n",
              "      <th>4</th>\n",
              "      <td>5</td>\n",
              "      <td>2011-09-05</td>\n",
              "      <td>77</td>\n",
              "      <td>77.0</td>\n",
              "      <td>4.0</td>\n",
              "      <td>NaN</td>\n",
              "      <td>NaN</td>\n",
              "      <td>NaN</td>\n",
              "      <td>NaN</td>\n",
              "      <td>NaN</td>\n",
              "      <td>...</td>\n",
              "      <td>319</td>\n",
              "      <td>108</td>\n",
              "      <td>17</td>\n",
              "      <td>135</td>\n",
              "      <td>236</td>\n",
              "      <td>2</td>\n",
              "      <td>91</td>\n",
              "      <td>195</td>\n",
              "      <td>14</td>\n",
              "      <td>16331452</td>\n",
              "    </tr>\n",
              "  </tbody>\n",
              "</table>\n",
              "<p>5 rows × 292 columns</p>\n",
              "</div>\n",
              "      <button class=\"colab-df-convert\" onclick=\"convertToInteractive('df-413796a3-1c7c-4c19-bdea-e200ecacd1cb')\"\n",
              "              title=\"Convert this dataframe to an interactive table.\"\n",
              "              style=\"display:none;\">\n",
              "        \n",
              "  <svg xmlns=\"http://www.w3.org/2000/svg\" height=\"24px\"viewBox=\"0 0 24 24\"\n",
              "       width=\"24px\">\n",
              "    <path d=\"M0 0h24v24H0V0z\" fill=\"none\"/>\n",
              "    <path d=\"M18.56 5.44l.94 2.06.94-2.06 2.06-.94-2.06-.94-.94-2.06-.94 2.06-2.06.94zm-11 1L8.5 8.5l.94-2.06 2.06-.94-2.06-.94L8.5 2.5l-.94 2.06-2.06.94zm10 10l.94 2.06.94-2.06 2.06-.94-2.06-.94-.94-2.06-.94 2.06-2.06.94z\"/><path d=\"M17.41 7.96l-1.37-1.37c-.4-.4-.92-.59-1.43-.59-.52 0-1.04.2-1.43.59L10.3 9.45l-7.72 7.72c-.78.78-.78 2.05 0 2.83L4 21.41c.39.39.9.59 1.41.59.51 0 1.02-.2 1.41-.59l7.78-7.78 2.81-2.81c.8-.78.8-2.07 0-2.86zM5.41 20L4 18.59l7.72-7.72 1.47 1.35L5.41 20z\"/>\n",
              "  </svg>\n",
              "      </button>\n",
              "      \n",
              "  <style>\n",
              "    .colab-df-container {\n",
              "      display:flex;\n",
              "      flex-wrap:wrap;\n",
              "      gap: 12px;\n",
              "    }\n",
              "\n",
              "    .colab-df-convert {\n",
              "      background-color: #E8F0FE;\n",
              "      border: none;\n",
              "      border-radius: 50%;\n",
              "      cursor: pointer;\n",
              "      display: none;\n",
              "      fill: #1967D2;\n",
              "      height: 32px;\n",
              "      padding: 0 0 0 0;\n",
              "      width: 32px;\n",
              "    }\n",
              "\n",
              "    .colab-df-convert:hover {\n",
              "      background-color: #E2EBFA;\n",
              "      box-shadow: 0px 1px 2px rgba(60, 64, 67, 0.3), 0px 1px 3px 1px rgba(60, 64, 67, 0.15);\n",
              "      fill: #174EA6;\n",
              "    }\n",
              "\n",
              "    [theme=dark] .colab-df-convert {\n",
              "      background-color: #3B4455;\n",
              "      fill: #D2E3FC;\n",
              "    }\n",
              "\n",
              "    [theme=dark] .colab-df-convert:hover {\n",
              "      background-color: #434B5C;\n",
              "      box-shadow: 0px 1px 3px 1px rgba(0, 0, 0, 0.15);\n",
              "      filter: drop-shadow(0px 1px 2px rgba(0, 0, 0, 0.3));\n",
              "      fill: #FFFFFF;\n",
              "    }\n",
              "  </style>\n",
              "\n",
              "      <script>\n",
              "        const buttonEl =\n",
              "          document.querySelector('#df-413796a3-1c7c-4c19-bdea-e200ecacd1cb button.colab-df-convert');\n",
              "        buttonEl.style.display =\n",
              "          google.colab.kernel.accessAllowed ? 'block' : 'none';\n",
              "\n",
              "        async function convertToInteractive(key) {\n",
              "          const element = document.querySelector('#df-413796a3-1c7c-4c19-bdea-e200ecacd1cb');\n",
              "          const dataTable =\n",
              "            await google.colab.kernel.invokeFunction('convertToInteractive',\n",
              "                                                     [key], {});\n",
              "          if (!dataTable) return;\n",
              "\n",
              "          const docLinkHtml = 'Like what you see? Visit the ' +\n",
              "            '<a target=\"_blank\" href=https://colab.research.google.com/notebooks/data_table.ipynb>data table notebook</a>'\n",
              "            + ' to learn more about interactive tables.';\n",
              "          element.innerHTML = '';\n",
              "          dataTable['output_type'] = 'display_data';\n",
              "          await google.colab.output.renderOutput(dataTable, element);\n",
              "          const docLink = document.createElement('div');\n",
              "          docLink.innerHTML = docLinkHtml;\n",
              "          element.appendChild(docLink);\n",
              "        }\n",
              "      </script>\n",
              "    </div>\n",
              "  </div>\n",
              "  "
            ]
          },
          "metadata": {},
          "execution_count": 47
        }
      ]
    },
    {
      "cell_type": "markdown",
      "source": [
        "Посмотрим на размер данных, названия признаков и их типы.\n",
        "\n"
      ],
      "metadata": {
        "id": "HBlFxD15PP0n"
      }
    },
    {
      "cell_type": "code",
      "source": [
        "print(df.shape) # сколько строк и столбцов?"
      ],
      "metadata": {
        "colab": {
          "base_uri": "https://localhost:8080/"
        },
        "id": "XUgLJ2NvPQ6N",
        "outputId": "627439ce-2e91-415f-8581-cf992ff88881"
      },
      "execution_count": null,
      "outputs": [
        {
          "output_type": "stream",
          "name": "stdout",
          "text": [
            "(30471, 292)\n"
          ]
        }
      ]
    },
    {
      "cell_type": "code",
      "source": [
        "print(df.columns) # как называются столбцы?"
      ],
      "metadata": {
        "colab": {
          "base_uri": "https://localhost:8080/"
        },
        "id": "Bu1318LcPa7x",
        "outputId": "c15523c1-a430-490f-f1ae-793026f82588"
      },
      "execution_count": null,
      "outputs": [
        {
          "output_type": "stream",
          "name": "stdout",
          "text": [
            "Index(['id', 'timestamp', 'full_sq', 'life_sq', 'floor', 'max_floor',\n",
            "       'material', 'build_year', 'num_room', 'kitch_sq',\n",
            "       ...\n",
            "       'cafe_count_5000_price_2500', 'cafe_count_5000_price_4000',\n",
            "       'cafe_count_5000_price_high', 'big_church_count_5000',\n",
            "       'church_count_5000', 'mosque_count_5000', 'leisure_count_5000',\n",
            "       'sport_count_5000', 'market_count_5000', 'price_doc'],\n",
            "      dtype='object', length=292)\n"
          ]
        }
      ]
    },
    {
      "cell_type": "code",
      "source": [
        "print(df.info()) # общая информация"
      ],
      "metadata": {
        "colab": {
          "base_uri": "https://localhost:8080/"
        },
        "id": "yegE67PTPl7g",
        "outputId": "9f0e03f7-da66-4d67-edb6-984e544e914d"
      },
      "execution_count": null,
      "outputs": [
        {
          "output_type": "stream",
          "name": "stdout",
          "text": [
            "<class 'pandas.core.frame.DataFrame'>\n",
            "RangeIndex: 30471 entries, 0 to 30470\n",
            "Columns: 292 entries, id to price_doc\n",
            "dtypes: float64(119), int64(157), object(16)\n",
            "memory usage: 67.9+ MB\n",
            "None\n"
          ]
        }
      ]
    },
    {
      "cell_type": "markdown",
      "source": [
        "float64(119), int64(157), object(16) - это типы признаков, в скобках указаны количества признаков с данным типом данных"
      ],
      "metadata": {
        "id": "icwYAuipQJWS"
      }
    },
    {
      "cell_type": "code",
      "source": [
        "df.head()"
      ],
      "metadata": {
        "colab": {
          "base_uri": "https://localhost:8080/",
          "height": 386
        },
        "id": "ZM6ul1eBQWWG",
        "outputId": "d1298c07-1dd5-4c79-c151-a7a58bddc45f"
      },
      "execution_count": null,
      "outputs": [
        {
          "output_type": "execute_result",
          "data": {
            "text/plain": [
              "   id   timestamp  full_sq  life_sq  floor  max_floor  material  build_year  \\\n",
              "0   1  2011-08-20       43     27.0    4.0        NaN       NaN         NaN   \n",
              "1   2  2011-08-23       34     19.0    3.0        NaN       NaN         NaN   \n",
              "2   3  2011-08-27       43     29.0    2.0        NaN       NaN         NaN   \n",
              "3   4  2011-09-01       89     50.0    9.0        NaN       NaN         NaN   \n",
              "4   5  2011-09-05       77     77.0    4.0        NaN       NaN         NaN   \n",
              "\n",
              "   num_room  kitch_sq  ...  cafe_count_5000_price_2500  \\\n",
              "0       NaN       NaN  ...                           9   \n",
              "1       NaN       NaN  ...                          15   \n",
              "2       NaN       NaN  ...                          10   \n",
              "3       NaN       NaN  ...                          11   \n",
              "4       NaN       NaN  ...                         319   \n",
              "\n",
              "  cafe_count_5000_price_4000 cafe_count_5000_price_high  \\\n",
              "0                          4                          0   \n",
              "1                          3                          0   \n",
              "2                          3                          0   \n",
              "3                          2                          1   \n",
              "4                        108                         17   \n",
              "\n",
              "   big_church_count_5000  church_count_5000  mosque_count_5000  \\\n",
              "0                     13                 22                  1   \n",
              "1                     15                 29                  1   \n",
              "2                     11                 27                  0   \n",
              "3                      4                  4                  0   \n",
              "4                    135                236                  2   \n",
              "\n",
              "   leisure_count_5000  sport_count_5000  market_count_5000  price_doc  \n",
              "0                   0                52                  4    5850000  \n",
              "1                  10                66                 14    6000000  \n",
              "2                   4                67                 10    5700000  \n",
              "3                   0                26                  3   13100000  \n",
              "4                  91               195                 14   16331452  \n",
              "\n",
              "[5 rows x 292 columns]"
            ],
            "text/html": [
              "\n",
              "  <div id=\"df-eebe0383-4ac2-4c48-a413-9b99e3fa2953\">\n",
              "    <div class=\"colab-df-container\">\n",
              "      <div>\n",
              "<style scoped>\n",
              "    .dataframe tbody tr th:only-of-type {\n",
              "        vertical-align: middle;\n",
              "    }\n",
              "\n",
              "    .dataframe tbody tr th {\n",
              "        vertical-align: top;\n",
              "    }\n",
              "\n",
              "    .dataframe thead th {\n",
              "        text-align: right;\n",
              "    }\n",
              "</style>\n",
              "<table border=\"1\" class=\"dataframe\">\n",
              "  <thead>\n",
              "    <tr style=\"text-align: right;\">\n",
              "      <th></th>\n",
              "      <th>id</th>\n",
              "      <th>timestamp</th>\n",
              "      <th>full_sq</th>\n",
              "      <th>life_sq</th>\n",
              "      <th>floor</th>\n",
              "      <th>max_floor</th>\n",
              "      <th>material</th>\n",
              "      <th>build_year</th>\n",
              "      <th>num_room</th>\n",
              "      <th>kitch_sq</th>\n",
              "      <th>...</th>\n",
              "      <th>cafe_count_5000_price_2500</th>\n",
              "      <th>cafe_count_5000_price_4000</th>\n",
              "      <th>cafe_count_5000_price_high</th>\n",
              "      <th>big_church_count_5000</th>\n",
              "      <th>church_count_5000</th>\n",
              "      <th>mosque_count_5000</th>\n",
              "      <th>leisure_count_5000</th>\n",
              "      <th>sport_count_5000</th>\n",
              "      <th>market_count_5000</th>\n",
              "      <th>price_doc</th>\n",
              "    </tr>\n",
              "  </thead>\n",
              "  <tbody>\n",
              "    <tr>\n",
              "      <th>0</th>\n",
              "      <td>1</td>\n",
              "      <td>2011-08-20</td>\n",
              "      <td>43</td>\n",
              "      <td>27.0</td>\n",
              "      <td>4.0</td>\n",
              "      <td>NaN</td>\n",
              "      <td>NaN</td>\n",
              "      <td>NaN</td>\n",
              "      <td>NaN</td>\n",
              "      <td>NaN</td>\n",
              "      <td>...</td>\n",
              "      <td>9</td>\n",
              "      <td>4</td>\n",
              "      <td>0</td>\n",
              "      <td>13</td>\n",
              "      <td>22</td>\n",
              "      <td>1</td>\n",
              "      <td>0</td>\n",
              "      <td>52</td>\n",
              "      <td>4</td>\n",
              "      <td>5850000</td>\n",
              "    </tr>\n",
              "    <tr>\n",
              "      <th>1</th>\n",
              "      <td>2</td>\n",
              "      <td>2011-08-23</td>\n",
              "      <td>34</td>\n",
              "      <td>19.0</td>\n",
              "      <td>3.0</td>\n",
              "      <td>NaN</td>\n",
              "      <td>NaN</td>\n",
              "      <td>NaN</td>\n",
              "      <td>NaN</td>\n",
              "      <td>NaN</td>\n",
              "      <td>...</td>\n",
              "      <td>15</td>\n",
              "      <td>3</td>\n",
              "      <td>0</td>\n",
              "      <td>15</td>\n",
              "      <td>29</td>\n",
              "      <td>1</td>\n",
              "      <td>10</td>\n",
              "      <td>66</td>\n",
              "      <td>14</td>\n",
              "      <td>6000000</td>\n",
              "    </tr>\n",
              "    <tr>\n",
              "      <th>2</th>\n",
              "      <td>3</td>\n",
              "      <td>2011-08-27</td>\n",
              "      <td>43</td>\n",
              "      <td>29.0</td>\n",
              "      <td>2.0</td>\n",
              "      <td>NaN</td>\n",
              "      <td>NaN</td>\n",
              "      <td>NaN</td>\n",
              "      <td>NaN</td>\n",
              "      <td>NaN</td>\n",
              "      <td>...</td>\n",
              "      <td>10</td>\n",
              "      <td>3</td>\n",
              "      <td>0</td>\n",
              "      <td>11</td>\n",
              "      <td>27</td>\n",
              "      <td>0</td>\n",
              "      <td>4</td>\n",
              "      <td>67</td>\n",
              "      <td>10</td>\n",
              "      <td>5700000</td>\n",
              "    </tr>\n",
              "    <tr>\n",
              "      <th>3</th>\n",
              "      <td>4</td>\n",
              "      <td>2011-09-01</td>\n",
              "      <td>89</td>\n",
              "      <td>50.0</td>\n",
              "      <td>9.0</td>\n",
              "      <td>NaN</td>\n",
              "      <td>NaN</td>\n",
              "      <td>NaN</td>\n",
              "      <td>NaN</td>\n",
              "      <td>NaN</td>\n",
              "      <td>...</td>\n",
              "      <td>11</td>\n",
              "      <td>2</td>\n",
              "      <td>1</td>\n",
              "      <td>4</td>\n",
              "      <td>4</td>\n",
              "      <td>0</td>\n",
              "      <td>0</td>\n",
              "      <td>26</td>\n",
              "      <td>3</td>\n",
              "      <td>13100000</td>\n",
              "    </tr>\n",
              "    <tr>\n",
              "      <th>4</th>\n",
              "      <td>5</td>\n",
              "      <td>2011-09-05</td>\n",
              "      <td>77</td>\n",
              "      <td>77.0</td>\n",
              "      <td>4.0</td>\n",
              "      <td>NaN</td>\n",
              "      <td>NaN</td>\n",
              "      <td>NaN</td>\n",
              "      <td>NaN</td>\n",
              "      <td>NaN</td>\n",
              "      <td>...</td>\n",
              "      <td>319</td>\n",
              "      <td>108</td>\n",
              "      <td>17</td>\n",
              "      <td>135</td>\n",
              "      <td>236</td>\n",
              "      <td>2</td>\n",
              "      <td>91</td>\n",
              "      <td>195</td>\n",
              "      <td>14</td>\n",
              "      <td>16331452</td>\n",
              "    </tr>\n",
              "  </tbody>\n",
              "</table>\n",
              "<p>5 rows × 292 columns</p>\n",
              "</div>\n",
              "      <button class=\"colab-df-convert\" onclick=\"convertToInteractive('df-eebe0383-4ac2-4c48-a413-9b99e3fa2953')\"\n",
              "              title=\"Convert this dataframe to an interactive table.\"\n",
              "              style=\"display:none;\">\n",
              "        \n",
              "  <svg xmlns=\"http://www.w3.org/2000/svg\" height=\"24px\"viewBox=\"0 0 24 24\"\n",
              "       width=\"24px\">\n",
              "    <path d=\"M0 0h24v24H0V0z\" fill=\"none\"/>\n",
              "    <path d=\"M18.56 5.44l.94 2.06.94-2.06 2.06-.94-2.06-.94-.94-2.06-.94 2.06-2.06.94zm-11 1L8.5 8.5l.94-2.06 2.06-.94-2.06-.94L8.5 2.5l-.94 2.06-2.06.94zm10 10l.94 2.06.94-2.06 2.06-.94-2.06-.94-.94-2.06-.94 2.06-2.06.94z\"/><path d=\"M17.41 7.96l-1.37-1.37c-.4-.4-.92-.59-1.43-.59-.52 0-1.04.2-1.43.59L10.3 9.45l-7.72 7.72c-.78.78-.78 2.05 0 2.83L4 21.41c.39.39.9.59 1.41.59.51 0 1.02-.2 1.41-.59l7.78-7.78 2.81-2.81c.8-.78.8-2.07 0-2.86zM5.41 20L4 18.59l7.72-7.72 1.47 1.35L5.41 20z\"/>\n",
              "  </svg>\n",
              "      </button>\n",
              "      \n",
              "  <style>\n",
              "    .colab-df-container {\n",
              "      display:flex;\n",
              "      flex-wrap:wrap;\n",
              "      gap: 12px;\n",
              "    }\n",
              "\n",
              "    .colab-df-convert {\n",
              "      background-color: #E8F0FE;\n",
              "      border: none;\n",
              "      border-radius: 50%;\n",
              "      cursor: pointer;\n",
              "      display: none;\n",
              "      fill: #1967D2;\n",
              "      height: 32px;\n",
              "      padding: 0 0 0 0;\n",
              "      width: 32px;\n",
              "    }\n",
              "\n",
              "    .colab-df-convert:hover {\n",
              "      background-color: #E2EBFA;\n",
              "      box-shadow: 0px 1px 2px rgba(60, 64, 67, 0.3), 0px 1px 3px 1px rgba(60, 64, 67, 0.15);\n",
              "      fill: #174EA6;\n",
              "    }\n",
              "\n",
              "    [theme=dark] .colab-df-convert {\n",
              "      background-color: #3B4455;\n",
              "      fill: #D2E3FC;\n",
              "    }\n",
              "\n",
              "    [theme=dark] .colab-df-convert:hover {\n",
              "      background-color: #434B5C;\n",
              "      box-shadow: 0px 1px 3px 1px rgba(0, 0, 0, 0.15);\n",
              "      filter: drop-shadow(0px 1px 2px rgba(0, 0, 0, 0.3));\n",
              "      fill: #FFFFFF;\n",
              "    }\n",
              "  </style>\n",
              "\n",
              "      <script>\n",
              "        const buttonEl =\n",
              "          document.querySelector('#df-eebe0383-4ac2-4c48-a413-9b99e3fa2953 button.colab-df-convert');\n",
              "        buttonEl.style.display =\n",
              "          google.colab.kernel.accessAllowed ? 'block' : 'none';\n",
              "\n",
              "        async function convertToInteractive(key) {\n",
              "          const element = document.querySelector('#df-eebe0383-4ac2-4c48-a413-9b99e3fa2953');\n",
              "          const dataTable =\n",
              "            await google.colab.kernel.invokeFunction('convertToInteractive',\n",
              "                                                     [key], {});\n",
              "          if (!dataTable) return;\n",
              "\n",
              "          const docLinkHtml = 'Like what you see? Visit the ' +\n",
              "            '<a target=\"_blank\" href=https://colab.research.google.com/notebooks/data_table.ipynb>data table notebook</a>'\n",
              "            + ' to learn more about interactive tables.';\n",
              "          element.innerHTML = '';\n",
              "          dataTable['output_type'] = 'display_data';\n",
              "          await google.colab.output.renderOutput(dataTable, element);\n",
              "          const docLink = document.createElement('div');\n",
              "          docLink.innerHTML = docLinkHtml;\n",
              "          element.appendChild(docLink);\n",
              "        }\n",
              "      </script>\n",
              "    </div>\n",
              "  </div>\n",
              "  "
            ]
          },
          "metadata": {},
          "execution_count": 58
        }
      ]
    },
    {
      "cell_type": "markdown",
      "source": [
        "Изменить тип колонки можно с помощью метода astype. Применим этот метод к признаку timestamp и переведём его в datetime64:"
      ],
      "metadata": {
        "id": "PUYNyzinQgF2"
      }
    },
    {
      "cell_type": "code",
      "source": [
        "df['timestamp'] = df['timestamp'].astype('datetime64')\n",
        "df.iloc[:, :3].info()"
      ],
      "metadata": {
        "colab": {
          "base_uri": "https://localhost:8080/"
        },
        "id": "OzVLVzP4Qszr",
        "outputId": "1271ed7b-71dd-4759-bcb1-a07069efcabe"
      },
      "execution_count": 67,
      "outputs": [
        {
          "output_type": "stream",
          "name": "stdout",
          "text": [
            "<class 'pandas.core.frame.DataFrame'>\n",
            "RangeIndex: 30471 entries, 0 to 30470\n",
            "Data columns (total 3 columns):\n",
            " #   Column     Non-Null Count  Dtype         \n",
            "---  ------     --------------  -----         \n",
            " 0   id         30471 non-null  int64         \n",
            " 1   timestamp  30471 non-null  datetime64[ns]\n",
            " 2   full_sq    30471 non-null  int64         \n",
            "dtypes: datetime64[ns](1), int64(2)\n",
            "memory usage: 714.3 KB\n"
          ]
        }
      ]
    },
    {
      "cell_type": "markdown",
      "source": [
        "## Индексация и извлечение данных\n"
      ],
      "metadata": {
        "id": "cfU9c8l1J8xd"
      }
    },
    {
      "cell_type": "code",
      "source": [
        ""
      ],
      "metadata": {
        "id": "lWb-Qn7aJ-gx"
      },
      "execution_count": null,
      "outputs": []
    },
    {
      "cell_type": "markdown",
      "source": [
        "## Exploratory data analysis (разведочный анализ данных)"
      ],
      "metadata": {
        "id": "rEXXzK58sVIS"
      }
    },
    {
      "cell_type": "markdown",
      "source": [
        "###1. Отсутствующие данные\n",
        "Работа с отсутствующими значениями – одна из самых сложных, но и самых распространенных проблем очистки. Большинство моделей не предполагают пропусков.\n",
        "\n",
        "1.1. Как обнаружить?\n",
        "Рассмотрим несколько методов обнаружения пропусков."
      ],
      "metadata": {
        "id": "0U-cBgw-vPZY"
      }
    },
    {
      "cell_type": "markdown",
      "source": [
        "1.1.1. Сводка с помощью функции info()  \n",
        "Когда не очень много признаков."
      ],
      "metadata": {
        "id": "YT_80u-Gv3Kx"
      }
    },
    {
      "cell_type": "code",
      "source": [
        "df.iloc[:, :10].info()"
      ],
      "metadata": {
        "colab": {
          "base_uri": "https://localhost:8080/"
        },
        "id": "mvLmo6UTu_6w",
        "outputId": "7db2c2ea-4cdf-4616-bedc-92b51add46d7"
      },
      "execution_count": 70,
      "outputs": [
        {
          "output_type": "stream",
          "name": "stdout",
          "text": [
            "<class 'pandas.core.frame.DataFrame'>\n",
            "RangeIndex: 30471 entries, 0 to 30470\n",
            "Data columns (total 10 columns):\n",
            " #   Column      Non-Null Count  Dtype         \n",
            "---  ------      --------------  -----         \n",
            " 0   id          30471 non-null  int64         \n",
            " 1   timestamp   30471 non-null  datetime64[ns]\n",
            " 2   full_sq     30471 non-null  int64         \n",
            " 3   life_sq     24088 non-null  float64       \n",
            " 4   floor       30304 non-null  float64       \n",
            " 5   max_floor   20899 non-null  float64       \n",
            " 6   material    20899 non-null  float64       \n",
            " 7   build_year  16866 non-null  float64       \n",
            " 8   num_room    20899 non-null  float64       \n",
            " 9   kitch_sq    20899 non-null  float64       \n",
            "dtypes: datetime64[ns](1), float64(7), int64(2)\n",
            "memory usage: 2.3 MB\n"
          ]
        }
      ]
    },
    {
      "cell_type": "markdown",
      "source": [
        "1.1.2. Процентный список пропущенных данных\n",
        "\n",
        "Если в наборе много признаков и info() не выводит список признаков, можно составить список долей отсутствующих записей для каждого признака.\n",
        "\n"
      ],
      "metadata": {
        "id": "F5j9mZiEwDHY"
      }
    },
    {
      "cell_type": "code",
      "source": [
        "for col in df.columns:\n",
        "    pct_missing = np.mean(df[col].isnull())\n",
        "    if pct_missing != 0:\n",
        "        print('{} - {}%'.format(col, round(pct_missing*100, 2)))\n"
      ],
      "metadata": {
        "colab": {
          "base_uri": "https://localhost:8080/"
        },
        "id": "2_JmpJ8lwCht",
        "outputId": "ae6baadd-d906-4400-d5ae-7ad6a13cd43c"
      },
      "execution_count": 82,
      "outputs": [
        {
          "output_type": "stream",
          "name": "stdout",
          "text": [
            "life_sq - 20.95%\n",
            "floor - 0.55%\n",
            "max_floor - 31.41%\n",
            "material - 31.41%\n",
            "build_year - 44.65%\n",
            "num_room - 31.41%\n",
            "kitch_sq - 31.41%\n",
            "state - 44.5%\n",
            "preschool_quota - 21.95%\n",
            "school_quota - 21.94%\n",
            "hospital_beds_raion - 47.39%\n",
            "raion_build_count_with_material_info - 16.38%\n",
            "build_count_block - 16.38%\n",
            "build_count_wood - 16.38%\n",
            "build_count_frame - 16.38%\n",
            "build_count_brick - 16.38%\n",
            "build_count_monolith - 16.38%\n",
            "build_count_panel - 16.38%\n",
            "build_count_foam - 16.38%\n",
            "build_count_slag - 16.38%\n",
            "build_count_mix - 16.38%\n",
            "raion_build_count_with_builddate_info - 16.38%\n",
            "build_count_before_1920 - 16.38%\n",
            "build_count_1921-1945 - 16.38%\n",
            "build_count_1946-1970 - 16.38%\n",
            "build_count_1971-1995 - 16.38%\n",
            "build_count_after_1995 - 16.38%\n",
            "metro_min_walk - 0.08%\n",
            "metro_km_walk - 0.08%\n",
            "railroad_station_walk_km - 0.08%\n",
            "railroad_station_walk_min - 0.08%\n",
            "ID_railroad_station_walk - 0.08%\n",
            "cafe_sum_500_min_price_avg - 43.59%\n",
            "cafe_sum_500_max_price_avg - 43.59%\n",
            "cafe_avg_price_500 - 43.59%\n",
            "cafe_sum_1000_min_price_avg - 21.41%\n",
            "cafe_sum_1000_max_price_avg - 21.41%\n",
            "cafe_avg_price_1000 - 21.41%\n",
            "cafe_sum_1500_min_price_avg - 13.78%\n",
            "cafe_sum_1500_max_price_avg - 13.78%\n",
            "cafe_avg_price_1500 - 13.78%\n",
            "cafe_sum_2000_min_price_avg - 5.66%\n",
            "cafe_sum_2000_max_price_avg - 5.66%\n",
            "cafe_avg_price_2000 - 5.66%\n",
            "cafe_sum_3000_min_price_avg - 3.25%\n",
            "cafe_sum_3000_max_price_avg - 3.25%\n",
            "cafe_avg_price_3000 - 3.25%\n",
            "prom_part_5000 - 0.58%\n",
            "cafe_sum_5000_min_price_avg - 0.97%\n",
            "cafe_sum_5000_max_price_avg - 0.97%\n",
            "cafe_avg_price_5000 - 0.97%\n"
          ]
        }
      ]
    },
    {
      "cell_type": "markdown",
      "source": [
        "1.1.3. Тепловая карта пропущенных значений  \n",
        "Когда признаков в наборе не очень много, визуализируйте пропущенные значения с помощью тепловой карты. Так же этот метод можно использовать в совокупности с предыдущим."
      ],
      "metadata": {
        "id": "_R5AUh9YyVCT"
      }
    },
    {
      "cell_type": "code",
      "source": [
        "import seaborn as sns"
      ],
      "metadata": {
        "id": "PhcR92V2yXXb"
      },
      "execution_count": 84,
      "outputs": []
    },
    {
      "cell_type": "code",
      "source": [
        "cols = df.columns[:30] # первые 30 колонок\n",
        "# определяем цвета \n",
        "# желтый - пропущенные данные, синий - не пропущенные\n",
        "colours = ['#000099', '#ffff00'] \n",
        "sns.set(rc = {'figure.figsize':(15,8)})\n",
        "sns.heatmap(df[cols].isnull(), cmap=sns.color_palette(colours))"
      ],
      "metadata": {
        "colab": {
          "base_uri": "https://localhost:8080/",
          "height": 718
        },
        "id": "zX_hKok_yWWF",
        "outputId": "79a40dc8-9966-4026-918f-515b5a9d7879"
      },
      "execution_count": 86,
      "outputs": [
        {
          "output_type": "execute_result",
          "data": {
            "text/plain": [
              "<matplotlib.axes._subplots.AxesSubplot at 0x7ff0ec3f43d0>"
            ]
          },
          "metadata": {},
          "execution_count": 86
        },
        {
          "output_type": "display_data",
          "data": {
            "text/plain": [
              "<Figure size 1080x576 with 2 Axes>"
            ],
            "image/png": "[encoded data removed]"
          },
          "metadata": {}
        }
      ]
    },
    {
      "cell_type": "markdown",
      "source": [
        "1.2. Что делать с пропущенными значениями?  \n",
        "\n",
        "Не существует общих решений для проблемы отсутствующих данных. Для каждого конкретного набора приходится искать наиболее подходящие методы или их комбинации.\n",
        "\n",
        "Разберем три самых распространенных техники."
      ],
      "metadata": {
        "id": "tXT2OE5jBzrc"
      }
    },
    {
      "cell_type": "markdown",
      "source": [
        "1.2.1. Отбрасывание признаков  \n",
        "Отбрасывание признаков может применяться только для неинформативных признаков.\n",
        "\n",
        "В процентном списке, построенном ранее, мы увидели, что признак hospital_beds_raion имеет высокий процент недостающих значений – 47%. Мы можем полностью отказаться от этого признака:"
      ],
      "metadata": {
        "id": "KpjMmzdkCYbT"
      }
    },
    {
      "cell_type": "code",
      "source": [
        "cols_to_drop = ['hospital_beds_raion']\n",
        "df_less_hos_beds_raion = df.drop(cols_to_drop, axis=1)"
      ],
      "metadata": {
        "id": "OLf77qToCdBP"
      },
      "execution_count": 88,
      "outputs": []
    },
    {
      "cell_type": "markdown",
      "source": [
        "1.2.3. Внесение недостающих значений  \n",
        "Для численных признаков можно воспользоваться методом принудительного заполнения пропусков. Например, на место пропуска можно записать среднее или медианное значение, полученное из остальных записей.\n",
        "\n",
        "Для категориальных признаков можно использовать в качестве заполнителя наиболее часто встречающееся значение.\n",
        "\n",
        "Возьмем для примера признак life_sq и заменим все недостающие значения медианой этого признака:"
      ],
      "metadata": {
        "id": "cJgw1d7XDibG"
      }
    },
    {
      "cell_type": "code",
      "source": [
        "med = df['life_sq'].median()\n",
        "print(med)\n",
        "df['life_sq'] = df['life_sq'].fillna(med)"
      ],
      "metadata": {
        "colab": {
          "base_uri": "https://localhost:8080/"
        },
        "id": "od-VwnaiDnoK",
        "outputId": "fe01473a-38ec-4b5d-8c96-d87dda27cfd6"
      },
      "execution_count": 89,
      "outputs": [
        {
          "output_type": "stream",
          "name": "stdout",
          "text": [
            "30.0\n"
          ]
        }
      ]
    },
    {
      "cell_type": "markdown",
      "source": [
        "Одну и ту же стратегию принудительного заполнения можно применить сразу для всех числовых признаков:\n",
        "\n"
      ],
      "metadata": {
        "id": "dp5THgrfDnTl"
      }
    },
    {
      "cell_type": "code",
      "source": [
        "df_numeric = df.select_dtypes(include=[np.number])\n",
        "numeric_cols = df_numeric.columns.values\n",
        "\n",
        "for col in numeric_cols:\n",
        "    missing = df[col].isnull()\n",
        "    num_missing = np.sum(missing)\n",
        "    \n",
        "    if num_missing > 0:  # only do the imputation for the columns that have missing values.\n",
        "        print('imputing missing values for: {}'.format(col))\n",
        "        df['{}_ismissing'.format(col)] = missing\n",
        "        med = df[col].median()\n",
        "        df[col] = df[col].fillna(med)"
      ],
      "metadata": {
        "id": "c2ZjIdTfEAFk"
      },
      "execution_count": null,
      "outputs": []
    },
    {
      "cell_type": "markdown",
      "source": [
        "К счастью, в нашем наборе не нашлось пропусков в категориальных признаках. Но это не мешает нам продемонстрировать использование той же стратегии:"
      ],
      "metadata": {
        "id": "Lm0_5UufEDUk"
      }
    },
    {
      "cell_type": "markdown",
      "source": [
        "С помощью функции unique() можно посмотреть уникальные значения классов в категориальной переменной.  \n",
        "С помощью функции value_counts() можно посмотреть количество уникальных значений классов в переменной.\n",
        "\n",
        "Идея заполнения пропусков в категориальных данных заключается в следующем: Мы будет заполнять данные самым популярным значением."
      ],
      "metadata": {
        "id": "rAQZCuTBFOD9"
      }
    },
    {
      "cell_type": "code",
      "source": [
        "df_non_numeric = df.select_dtypes(exclude=[np.number])\n",
        "non_numeric_cols = df_non_numeric.columns.values\n",
        "\n",
        "for col in non_numeric_cols:\n",
        "    missing = df[col].isnull()\n",
        "    num_missing = np.sum(missing)\n",
        "    \n",
        "    if num_missing > 0:  # only do the imputation for the columns that have missing values.\n",
        "        print('imputing missing values for: {}'.format(col))\n",
        "        df['{}_ismissing'.format(col)] = missing\n",
        "        \n",
        "        top = df[col].describe()['top'] # impute with the most frequent value.\n",
        "        df[col] = df[col].fillna(top)"
      ],
      "metadata": {
        "id": "aXksyy1mEJap"
      },
      "execution_count": null,
      "outputs": []
    },
    {
      "cell_type": "markdown",
      "source": [
        "1.2.3. Замена недостающих значений  \n",
        "\n",
        "Можно использовать некоторый дефолтный плейсхолдер для пропусков, например, новую категорию \\_MISSING\\_ для категориальных признаков или число -999 для числовых.\n",
        "\n",
        "Таким образом, мы сохраняем данные о пропущенных значениях, что тоже может быть ценной информацией."
      ],
      "metadata": {
        "id": "CyB9ZLYNEPPb"
      }
    },
    {
      "cell_type": "code",
      "source": [
        "# категориальные признаки\n",
        "df['sub_area'] = df['sub_area'].fillna('_MISSING_')\n",
        "\n",
        "# численные признаки\n",
        "df['life_sq'] = df['life_sq'].fillna(-999)"
      ],
      "metadata": {
        "id": "YZplCe_FEOhW"
      },
      "execution_count": null,
      "outputs": []
    }
  ]
}